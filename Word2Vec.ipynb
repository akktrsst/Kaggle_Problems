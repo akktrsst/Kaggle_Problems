{
  "nbformat": 4,
  "nbformat_minor": 0,
  "metadata": {
    "colab": {
      "provenance": [],
      "authorship_tag": "ABX9TyPoobjIe5xI0a64Cmez1iK9",
      "include_colab_link": true
    },
    "kernelspec": {
      "name": "python3",
      "display_name": "Python 3"
    },
    "language_info": {
      "name": "python"
    }
  },
  "cells": [
    {
      "cell_type": "markdown",
      "metadata": {
        "id": "view-in-github",
        "colab_type": "text"
      },
      "source": [
        "<a href=\"https://colab.research.google.com/github/akktrsst/Kaggle_Problems/blob/master/Word2Vec.ipynb\" target=\"_parent\"><img src=\"https://colab.research.google.com/assets/colab-badge.svg\" alt=\"Open In Colab\"/></a>"
      ]
    },
    {
      "cell_type": "code",
      "source": [
        "!pip install datasets\n",
        "!pip install stopwords"
      ],
      "metadata": {
        "colab": {
          "base_uri": "https://localhost:8080/"
        },
        "id": "zbIPd81I8ksD",
        "outputId": "76e621d7-6cf3-434a-8080-ac90bc354422"
      },
      "execution_count": 35,
      "outputs": [
        {
          "output_type": "stream",
          "name": "stdout",
          "text": [
            "Requirement already satisfied: datasets in /usr/local/lib/python3.10/dist-packages (2.18.0)\n",
            "Requirement already satisfied: filelock in /usr/local/lib/python3.10/dist-packages (from datasets) (3.13.1)\n",
            "Requirement already satisfied: numpy>=1.17 in /usr/local/lib/python3.10/dist-packages (from datasets) (1.25.2)\n",
            "Requirement already satisfied: pyarrow>=12.0.0 in /usr/local/lib/python3.10/dist-packages (from datasets) (14.0.2)\n",
            "Requirement already satisfied: pyarrow-hotfix in /usr/local/lib/python3.10/dist-packages (from datasets) (0.6)\n",
            "Requirement already satisfied: dill<0.3.9,>=0.3.0 in /usr/local/lib/python3.10/dist-packages (from datasets) (0.3.8)\n",
            "Requirement already satisfied: pandas in /usr/local/lib/python3.10/dist-packages (from datasets) (1.5.3)\n",
            "Requirement already satisfied: requests>=2.19.0 in /usr/local/lib/python3.10/dist-packages (from datasets) (2.31.0)\n",
            "Requirement already satisfied: tqdm>=4.62.1 in /usr/local/lib/python3.10/dist-packages (from datasets) (4.66.2)\n",
            "Requirement already satisfied: xxhash in /usr/local/lib/python3.10/dist-packages (from datasets) (3.4.1)\n",
            "Requirement already satisfied: multiprocess in /usr/local/lib/python3.10/dist-packages (from datasets) (0.70.16)\n",
            "Requirement already satisfied: fsspec[http]<=2024.2.0,>=2023.1.0 in /usr/local/lib/python3.10/dist-packages (from datasets) (2023.6.0)\n",
            "Requirement already satisfied: aiohttp in /usr/local/lib/python3.10/dist-packages (from datasets) (3.9.3)\n",
            "Requirement already satisfied: huggingface-hub>=0.19.4 in /usr/local/lib/python3.10/dist-packages (from datasets) (0.20.3)\n",
            "Requirement already satisfied: packaging in /usr/local/lib/python3.10/dist-packages (from datasets) (24.0)\n",
            "Requirement already satisfied: pyyaml>=5.1 in /usr/local/lib/python3.10/dist-packages (from datasets) (6.0.1)\n",
            "Requirement already satisfied: aiosignal>=1.1.2 in /usr/local/lib/python3.10/dist-packages (from aiohttp->datasets) (1.3.1)\n",
            "Requirement already satisfied: attrs>=17.3.0 in /usr/local/lib/python3.10/dist-packages (from aiohttp->datasets) (23.2.0)\n",
            "Requirement already satisfied: frozenlist>=1.1.1 in /usr/local/lib/python3.10/dist-packages (from aiohttp->datasets) (1.4.1)\n",
            "Requirement already satisfied: multidict<7.0,>=4.5 in /usr/local/lib/python3.10/dist-packages (from aiohttp->datasets) (6.0.5)\n",
            "Requirement already satisfied: yarl<2.0,>=1.0 in /usr/local/lib/python3.10/dist-packages (from aiohttp->datasets) (1.9.4)\n",
            "Requirement already satisfied: async-timeout<5.0,>=4.0 in /usr/local/lib/python3.10/dist-packages (from aiohttp->datasets) (4.0.3)\n",
            "Requirement already satisfied: typing-extensions>=3.7.4.3 in /usr/local/lib/python3.10/dist-packages (from huggingface-hub>=0.19.4->datasets) (4.10.0)\n",
            "Requirement already satisfied: charset-normalizer<4,>=2 in /usr/local/lib/python3.10/dist-packages (from requests>=2.19.0->datasets) (3.3.2)\n",
            "Requirement already satisfied: idna<4,>=2.5 in /usr/local/lib/python3.10/dist-packages (from requests>=2.19.0->datasets) (3.6)\n",
            "Requirement already satisfied: urllib3<3,>=1.21.1 in /usr/local/lib/python3.10/dist-packages (from requests>=2.19.0->datasets) (2.0.7)\n",
            "Requirement already satisfied: certifi>=2017.4.17 in /usr/local/lib/python3.10/dist-packages (from requests>=2.19.0->datasets) (2024.2.2)\n",
            "Requirement already satisfied: python-dateutil>=2.8.1 in /usr/local/lib/python3.10/dist-packages (from pandas->datasets) (2.8.2)\n",
            "Requirement already satisfied: pytz>=2020.1 in /usr/local/lib/python3.10/dist-packages (from pandas->datasets) (2023.4)\n",
            "Requirement already satisfied: six>=1.5 in /usr/local/lib/python3.10/dist-packages (from python-dateutil>=2.8.1->pandas->datasets) (1.16.0)\n",
            "Requirement already satisfied: stopwords in /usr/local/lib/python3.10/dist-packages (1.0.1)\n"
          ]
        }
      ]
    },
    {
      "cell_type": "code",
      "execution_count": 36,
      "metadata": {
        "id": "bSCBRnv166p1"
      },
      "outputs": [],
      "source": [
        "import torch\n",
        "import datasets\n",
        "\n",
        "dataset = datasets.load_dataset('tweets_hate_speech_detection')"
      ]
    },
    {
      "cell_type": "code",
      "source": [
        "# For simplicity let's remove alphanumeric but keep @, #\n",
        "import re\n",
        "import nltk\n",
        "nltk.download('stopwords')\n",
        "from nltk.corpus import stopwords\n",
        "from nltk.stem.snowball import SnowballStemmer\n",
        "\n",
        "ss = SnowballStemmer('english')\n",
        "sw = stopwords.words('english')\n",
        "\n",
        "def split_tokens(row):                             # STEP\n",
        "    row['all_tokens'] = [ss.stem(i) for i in       # 5\n",
        "                     re.split(r\" +\",               # 3\n",
        "                     re.sub(r\"[^a-z@# ]\", \"\",      # 2\n",
        "                            row['tweet'].lower())) # 1\n",
        "                     if (i not in sw) and len(i)]  # 4\n",
        "    return row\n",
        "\n",
        "# Determine vocabulary so we can create mapping\n",
        "dataset = dataset.map(split_tokens)"
      ],
      "metadata": {
        "colab": {
          "base_uri": "https://localhost:8080/"
        },
        "id": "OYQ-pqbd8XBS",
        "outputId": "914d44dd-ad32-4439-d012-e21fd785f67a"
      },
      "execution_count": 37,
      "outputs": [
        {
          "output_type": "stream",
          "name": "stderr",
          "text": [
            "[nltk_data] Downloading package stopwords to /root/nltk_data...\n",
            "[nltk_data]   Package stopwords is already up-to-date!\n"
          ]
        }
      ]
    },
    {
      "cell_type": "code",
      "source": [
        "dataset"
      ],
      "metadata": {
        "colab": {
          "base_uri": "https://localhost:8080/"
        },
        "id": "PMPhGAdB9Swp",
        "outputId": "af3797d8-84a4-459c-a3b3-22dddbbc2046"
      },
      "execution_count": 38,
      "outputs": [
        {
          "output_type": "execute_result",
          "data": {
            "text/plain": [
              "DatasetDict({\n",
              "    train: Dataset({\n",
              "        features: ['label', 'tweet', 'all_tokens'],\n",
              "        num_rows: 31962\n",
              "    })\n",
              "    test: Dataset({\n",
              "        features: ['label', 'tweet', 'all_tokens'],\n",
              "        num_rows: 17197\n",
              "    })\n",
              "})"
            ]
          },
          "metadata": {},
          "execution_count": 38
        }
      ]
    },
    {
      "cell_type": "code",
      "source": [
        "from collections import Counter\n",
        "\n",
        "counts = Counter([i for s in dataset['train']['all_tokens'] for i in s])\n",
        "counts = {k:v for k, v in counts.items() if v>10} # Filtering\n",
        "vocab = list(counts.keys())\n",
        "n_v = len(vocab)\n",
        "id2tok = dict(enumerate(vocab))\n",
        "tok2id = {token: id for id, token in id2tok.items()}\n",
        "\n",
        "# Now correct tokens\n",
        "def remove_rare_tokens(row):\n",
        "    row['tokens'] = [t for t in row['all_tokens'] if t in vocab]\n",
        "    return row\n",
        "\n",
        "dataset = dataset.map(remove_rare_tokens)"
      ],
      "metadata": {
        "id": "tTiIq6oc9bxh"
      },
      "execution_count": 39,
      "outputs": []
    },
    {
      "cell_type": "code",
      "source": [
        "dataset['train'].features"
      ],
      "metadata": {
        "colab": {
          "base_uri": "https://localhost:8080/"
        },
        "id": "CpQXZTyb9zhF",
        "outputId": "742d4ca9-5136-4c19-9bfa-e1ec25b7d56c"
      },
      "execution_count": 40,
      "outputs": [
        {
          "output_type": "execute_result",
          "data": {
            "text/plain": [
              "{'label': ClassLabel(names=['no-hate-speech', 'hate-speech'], id=None),\n",
              " 'tweet': Value(dtype='string', id=None),\n",
              " 'all_tokens': Sequence(feature=Value(dtype='string', id=None), length=-1, id=None),\n",
              " 'tokens': Sequence(feature=Value(dtype='string', id=None), length=-1, id=None)}"
            ]
          },
          "metadata": {},
          "execution_count": 40
        }
      ]
    },
    {
      "cell_type": "code",
      "source": [
        "def windowizer(row, wsize=3):\n",
        "    \"\"\"\n",
        "    Windowizer function for Word2Vec. Converts sentence to sliding-window\n",
        "    pairs.\n",
        "    \"\"\"\n",
        "    doc = row['tokens']\n",
        "    wsize = 3\n",
        "    out = []\n",
        "    for i, wd in enumerate(doc):\n",
        "        target = tok2id[wd]\n",
        "        window = [i+j for j in\n",
        "                  range(-wsize, wsize+1, 1)\n",
        "                  if (i+j>=0) &\n",
        "                     (i+j<len(doc)) &\n",
        "                     (j!=0)]\n",
        "\n",
        "        out+=[(target, tok2id[doc[w]]) for w in window]\n",
        "    row['moving_window'] = out\n",
        "    return row\n",
        "\n",
        "dataset = dataset.map(windowizer)"
      ],
      "metadata": {
        "id": "PQNftB86-VsY"
      },
      "execution_count": 41,
      "outputs": []
    },
    {
      "cell_type": "code",
      "source": [
        "dataset['train'].features['moving_window']"
      ],
      "metadata": {
        "colab": {
          "base_uri": "https://localhost:8080/"
        },
        "id": "-JyzoXnx-YQX",
        "outputId": "5a8bb5c4-c35d-43ab-eb85-905e124173c5"
      },
      "execution_count": 42,
      "outputs": [
        {
          "output_type": "execute_result",
          "data": {
            "text/plain": [
              "Sequence(feature=Sequence(feature=Value(dtype='int64', id=None), length=-1, id=None), length=-1, id=None)"
            ]
          },
          "metadata": {},
          "execution_count": 42
        }
      ]
    },
    {
      "cell_type": "code",
      "source": [
        "dataset.keys()"
      ],
      "metadata": {
        "colab": {
          "base_uri": "https://localhost:8080/"
        },
        "id": "K5I8IiMMDWfM",
        "outputId": "a4c41229-0181-435a-ca09-199aafada209"
      },
      "execution_count": 58,
      "outputs": [
        {
          "output_type": "execute_result",
          "data": {
            "text/plain": [
              "dict_keys(['train', 'test'])"
            ]
          },
          "metadata": {},
          "execution_count": 58
        }
      ]
    },
    {
      "cell_type": "code",
      "source": [
        "# dataset.set_format(type='pandas')\n",
        "# df = dataset['train'][:]"
      ],
      "metadata": {
        "id": "NnjjM3XtCUzs"
      },
      "execution_count": 43,
      "outputs": []
    },
    {
      "cell_type": "code",
      "source": [
        "# classes = dataset['train'].features['label'].names\n",
        "# df['label_name']=df['label'].apply(lambda x:classes[x])\n",
        "# df.head()"
      ],
      "metadata": {
        "id": "Dmf9viuaCJgD"
      },
      "execution_count": 44,
      "outputs": []
    },
    {
      "cell_type": "code",
      "source": [
        "from torch.utils.data import Dataset, DataLoader\n",
        "\n",
        "class Word2VecDataset(Dataset):\n",
        "    \"\"\"\n",
        "    Takes a HuggingFace dataset as an input, to be used for a Word2Vec dataloader.\n",
        "    \"\"\"\n",
        "    def __init__(self, dataset, vocab_size, wsize=3):\n",
        "        self.dataset = dataset\n",
        "        self.vocab_size = vocab_size\n",
        "        self.data = [i for s in dataset['moving_window'] for i in s]\n",
        "\n",
        "    def __len__(self):\n",
        "        return len(self.data)\n",
        "\n",
        "    def __getitem__(self, idx):\n",
        "        return self.data[idx]\n"
      ],
      "metadata": {
        "id": "mBtNPVYyBA-L"
      },
      "execution_count": 59,
      "outputs": []
    },
    {
      "cell_type": "code",
      "source": [
        "BATCH_SIZE = 2**14\n",
        "N_LOADER_PROCS = 10\n",
        "\n",
        "dataloader = {}\n",
        "# for key in dataset.keys():\n",
        "dataloader = {'train': DataLoader(Word2VecDataset(\n",
        "                                dataset['train'], vocab_size=n_v),\n",
        "                              batch_size=BATCH_SIZE,\n",
        "                              shuffle=True,\n",
        "                              num_workers=N_LOADER_PROCS),\n",
        "              'test': DataLoader(Word2VecDataset(\n",
        "                                dataset['test'], vocab_size=n_v),\n",
        "                              batch_size=BATCH_SIZE,\n",
        "                              shuffle=True,\n",
        "                              num_workers=N_LOADER_PROCS)}\n",
        "# dataloader = {'test': DataLoader(Word2VecDataset(\n",
        "#                                 dataset['test'], vocab_size=n_v),\n",
        "#                               batch_size=BATCH_SIZE,\n",
        "#                               shuffle=True,\n",
        "#                               num_workers=N_LOADER_PROCS)}"
      ],
      "metadata": {
        "colab": {
          "base_uri": "https://localhost:8080/"
        },
        "id": "xPozpDegBCUC",
        "outputId": "f3716d8e-f97f-449e-f00a-a78642d25adc"
      },
      "execution_count": 62,
      "outputs": [
        {
          "output_type": "stream",
          "name": "stderr",
          "text": [
            "/usr/local/lib/python3.10/dist-packages/torch/utils/data/dataloader.py:558: UserWarning: This DataLoader will create 10 worker processes in total. Our suggested max number of worker in current system is 2, which is smaller than what this DataLoader is going to create. Please be aware that excessive worker creation might get DataLoader running slow or even freeze, lower the worker number to avoid potential slowness/freeze if necessary.\n",
            "  warnings.warn(_create_warning_msg(\n"
          ]
        }
      ]
    },
    {
      "cell_type": "code",
      "source": [
        "dataloader.keys()"
      ],
      "metadata": {
        "colab": {
          "base_uri": "https://localhost:8080/"
        },
        "id": "P3GZTsZ9Dald",
        "outputId": "004efadb-8bb1-4fb5-8d80-d341305f1766"
      },
      "execution_count": 63,
      "outputs": [
        {
          "output_type": "execute_result",
          "data": {
            "text/plain": [
              "dict_keys(['train', 'test'])"
            ]
          },
          "metadata": {},
          "execution_count": 63
        }
      ]
    },
    {
      "cell_type": "code",
      "source": [
        "dataloader"
      ],
      "metadata": {
        "colab": {
          "base_uri": "https://localhost:8080/"
        },
        "id": "Ke9Fw8GYBJv1",
        "outputId": "5c5d56cb-fb4f-4fee-e9bc-94b0bfb88e3f"
      },
      "execution_count": 47,
      "outputs": [
        {
          "output_type": "execute_result",
          "data": {
            "text/plain": [
              "{'test': <torch.utils.data.dataloader.DataLoader at 0x7f027b401e70>}"
            ]
          },
          "metadata": {},
          "execution_count": 47
        }
      ]
    },
    {
      "cell_type": "code",
      "source": [
        "# There are two variants of this architecture:\n",
        "\n",
        "# CBOW (continuous bag-of-words): context word is input, center word is output.\n",
        "# Skip-gram: center word is input, context word is output."
      ],
      "metadata": {
        "id": "KFcTzoRvBZhm"
      },
      "execution_count": 48,
      "outputs": []
    },
    {
      "cell_type": "code",
      "source": [
        "# Aside: manually implementing one-hot encoding"
      ],
      "metadata": {
        "id": "c1wHrKRLBbZt"
      },
      "execution_count": 49,
      "outputs": []
    },
    {
      "cell_type": "code",
      "source": [
        "from torch import nn\n",
        "\n",
        "size = 10\n",
        "input = 3\n",
        "\n",
        "def one_hot_encode(input, size):\n",
        "    vec = torch.zeros(size).float()\n",
        "    vec[input] = 1.0\n",
        "    return vec\n",
        "\n",
        "ohe = one_hot_encode(input, size)\n",
        "linear_layer = nn.Linear(size, 1, bias=False)\n",
        "\n",
        "# Set edge weights from 0 to 9 for easy reference\n",
        "with torch.no_grad():\n",
        "    linear_layer.weight = nn.Parameter(\n",
        "        torch.arange(10, dtype=torch.float).reshape(linear_layer.weight.shape))\n",
        "\n",
        "print(linear_layer.weight)\n",
        "print(linear_layer(ohe))"
      ],
      "metadata": {
        "colab": {
          "base_uri": "https://localhost:8080/"
        },
        "id": "pMa7UBZnBnsA",
        "outputId": "0051e66c-2789-4931-b3de-caac1927a7e4"
      },
      "execution_count": 64,
      "outputs": [
        {
          "output_type": "stream",
          "name": "stdout",
          "text": [
            "Parameter containing:\n",
            "tensor([[0., 1., 2., 3., 4., 5., 6., 7., 8., 9.]], requires_grad=True)\n",
            "tensor([3.], grad_fn=<SqueezeBackward4>)\n"
          ]
        }
      ]
    },
    {
      "cell_type": "code",
      "source": [
        "embedding_layer = nn.Embedding(size, 1)\n",
        "\n",
        "with torch.no_grad():\n",
        "    embedding_layer.weight = nn.Parameter(\n",
        "        torch.arange(10, dtype=torch.float\n",
        "        ).reshape(embedding_layer.weight.shape))\n",
        "\n",
        "print(embedding_layer.weight)\n",
        "print(embedding_layer(torch.tensor(input)))"
      ],
      "metadata": {
        "colab": {
          "base_uri": "https://localhost:8080/"
        },
        "id": "XXxa7uceBzAR",
        "outputId": "d07fe183-4e44-4238-89bf-b9121ddb68a2"
      },
      "execution_count": 65,
      "outputs": [
        {
          "output_type": "stream",
          "name": "stdout",
          "text": [
            "Parameter containing:\n",
            "tensor([[0.],\n",
            "        [1.],\n",
            "        [2.],\n",
            "        [3.],\n",
            "        [4.],\n",
            "        [5.],\n",
            "        [6.],\n",
            "        [7.],\n",
            "        [8.],\n",
            "        [9.]], requires_grad=True)\n",
            "tensor([3.], grad_fn=<EmbeddingBackward0>)\n"
          ]
        }
      ]
    },
    {
      "cell_type": "code",
      "source": [
        "class Word2Vec(nn.Module):\n",
        "    def __init__(self, vocab_size, embedding_size):\n",
        "        super().__init__()\n",
        "        self.embed = nn.Embedding(vocab_size, embedding_size)\n",
        "        self.expand = nn.Linear(embedding_size, vocab_size, bias=False)\n",
        "\n",
        "    def forward(self, input):\n",
        "        # Encode input to lower-dimensional representation\n",
        "        hidden = self.embed(input)\n",
        "        # Expand hidden layer to predictions\n",
        "        logits = self.expand(hidden)\n",
        "        return logits"
      ],
      "metadata": {
        "id": "RLLmemffB0vo"
      },
      "execution_count": 66,
      "outputs": []
    },
    {
      "cell_type": "markdown",
      "source": [
        "Training"
      ],
      "metadata": {
        "id": "i4717ZTPCtsP"
      }
    },
    {
      "cell_type": "code",
      "source": [
        "EMBED_SIZE = 100 # Quite small, just for the tutorial\n",
        "model = Word2Vec(n_v, EMBED_SIZE)\n",
        "\n",
        "# Relevant if you have a GPU:\n",
        "device = torch.device('cuda') if torch.cuda.is_available() else torch.device('cpu')\n",
        "model.to(device)\n",
        "\n",
        "# Define training parameters\n",
        "LR = 3e-4\n",
        "EPOCHS = 10\n",
        "loss_fn = nn.CrossEntropyLoss()\n",
        "optimizer = torch.optim.AdamW(model.parameters(), lr=LR)"
      ],
      "metadata": {
        "id": "eEzJP2chB9Qi"
      },
      "execution_count": 67,
      "outputs": []
    },
    {
      "cell_type": "code",
      "source": [
        "print(dataloader.keys())"
      ],
      "metadata": {
        "colab": {
          "base_uri": "https://localhost:8080/"
        },
        "id": "PNEOfyt0DOCa",
        "outputId": "61087178-3e13-4a1d-efa4-0ca381bd7c70"
      },
      "execution_count": 68,
      "outputs": [
        {
          "output_type": "stream",
          "name": "stdout",
          "text": [
            "dict_keys(['train', 'test'])\n"
          ]
        }
      ]
    },
    {
      "cell_type": "code",
      "source": [
        "from tqdm import tqdm  # For progress bars\n",
        "\n",
        "progress_bar = tqdm(range(EPOCHS * len(dataloader['train'])))\n",
        "running_loss = []\n",
        "for epoch in range(EPOCHS):\n",
        "    epoch_loss = 0\n",
        "    for center, context in dataloader['train']:\n",
        "        center, context = center.to(device), context.to(device)\n",
        "        optimizer.zero_grad()\n",
        "        logits = model(input=context)\n",
        "        loss = loss_fn(logits, center)\n",
        "        epoch_loss += loss.item()\n",
        "        loss.backward()\n",
        "        optimizer.step()\n",
        "        progress_bar.update(1)\n",
        "    epoch_loss /= len(dataloader['train'])\n",
        "    running_loss.append(epoch_loss)"
      ],
      "metadata": {
        "colab": {
          "base_uri": "https://localhost:8080/"
        },
        "id": "yeEnlsYPCv53",
        "outputId": "6966a6ec-2f4f-4e23-b0ed-3a00c3b93520"
      },
      "execution_count": 69,
      "outputs": [
        {
          "output_type": "stream",
          "name": "stderr",
          "text": [
            "100%|██████████| 530/530 [14:14<00:00,  1.18s/it]"
          ]
        }
      ]
    },
    {
      "cell_type": "code",
      "source": [
        "import matplotlib.pyplot as plt\n",
        "plt.plot(running_loss)"
      ],
      "metadata": {
        "colab": {
          "base_uri": "https://localhost:8080/",
          "height": 447
        },
        "id": "Pb746A4wJ4bS",
        "outputId": "dd28cb17-f680-4540-c9bd-a008d301fcdc"
      },
      "execution_count": 70,
      "outputs": [
        {
          "output_type": "execute_result",
          "data": {
            "text/plain": [
              "[<matplotlib.lines.Line2D at 0x7f0242080af0>]"
            ]
          },
          "metadata": {},
          "execution_count": 70
        },
        {
          "output_type": "display_data",
          "data": {
            "text/plain": [
              "<Figure size 640x480 with 1 Axes>"
            ],
            "image/png": "[encoded data removed]"
          },
          "metadata": {}
        }
      ]
    },
    {
      "cell_type": "code",
      "source": [
        "wordvecs = model.expand.weight.cpu().detach().numpy()\n",
        "tokens = ['good', 'father', 'school', 'hate']"
      ],
      "metadata": {
        "id": "IGGL_tQyJ8Ar"
      },
      "execution_count": 72,
      "outputs": []
    },
    {
      "cell_type": "code",
      "source": [
        "from scipy.spatial import distance\n",
        "import numpy as np\n",
        "\n",
        "def get_distance_matrix(wordvecs, metric):\n",
        "    dist_matrix = distance.squareform(distance.pdist(wordvecs, metric))\n",
        "    return dist_matrix\n",
        "\n",
        "def get_k_similar_words(word, dist_matrix, k=10):\n",
        "    idx = tok2id[word]\n",
        "    dists = dist_matrix[idx]\n",
        "    ind = np.argpartition(dists, k)[:k+1]\n",
        "    ind = ind[np.argsort(dists[ind])][1:]\n",
        "    out = [(i, id2tok[i], dists[i]) for i in ind]\n",
        "    return out\n",
        "\n",
        "dmat = get_distance_matrix(wordvecs, 'cosine')\n",
        "for word in tokens:\n",
        "    print(word, [t[1] for t in get_k_similar_words(word, dmat)], \"\\n\")"
      ],
      "metadata": {
        "colab": {
          "base_uri": "https://localhost:8080/"
        },
        "id": "BU4ixTESKHe8",
        "outputId": "2b199ac0-7dca-442f-e8d5-0499dd0299c2"
      },
      "execution_count": 73,
      "outputs": [
        {
          "output_type": "stream",
          "name": "stdout",
          "text": [
            "good ['go', 'news', 'yeah', 'friend', 'tomorrow', 'everi', 'bong', 'amp', 'anoth', 'hope'] \n",
            "\n",
            "father ['dad', 'happi', '#fathersday', 'day', 'great', 'wish', '#father', '#love', 'know', 'dont'] \n",
            "\n",
            "school ['tomorrow', 'today', 'get', 'first', 'come', 'back', 'night', 'next', 'two', 'noth'] \n",
            "\n",
            "hate ['amp', 'today', 'like', 'watch', 'one', 'make', 'thing', '@user', 'im', 'man'] \n",
            "\n"
          ]
        }
      ]
    },
    {
      "cell_type": "code",
      "source": [],
      "metadata": {
        "id": "LiiT_MF9KK4u"
      },
      "execution_count": null,
      "outputs": []
    },
    {
      "cell_type": "code",
      "source": [
        "## https://muhark.github.io/python/ml/nlp/2021/10/21/word2vec-from-scratch.html"
      ],
      "metadata": {
        "id": "HveTIG6tKChL"
      },
      "execution_count": 71,
      "outputs": []
    }
  ]
}